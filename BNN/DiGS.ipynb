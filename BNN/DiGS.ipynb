{
 "cells": [
  {
   "cell_type": "code",
   "execution_count": 1,
   "metadata": {},
   "outputs": [],
   "source": [
    "import sys\n",
    "sys.path.append(\"../\")"
   ]
  },
  {
   "cell_type": "code",
   "execution_count": 2,
   "metadata": {},
   "outputs": [
    {
     "name": "stderr",
     "output_type": "stream",
     "text": [
      "/Users/wenlinchen/miniconda3/envs/rdgs/lib/python3.9/site-packages/torch/__init__.py:614: UserWarning: torch.set_default_tensor_type() is deprecated as of PyTorch 2.1, please use torch.set_default_dtype() and torch.set_default_device() as alternatives. (Triggered internally at /Users/runner/work/pytorch/pytorch/pytorch/torch/csrc/tensor/python_tensor.cpp:453.)\n",
      "  _C._set_default_tensor_type(t)\n"
     ]
    }
   ],
   "source": [
    "import torch\n",
    "import numpy as np\n",
    "from samplers.DiffusiveGibbs import langevin_diffusive_gibbs_sampler_step\n",
    "from utils import get_ground_truth_bnn, evaluate_test_nll, get_param_dim\n",
    "from tqdm import tqdm\n",
    "\n",
    "device = torch.device('cpu')\n",
    "torch.set_default_tensor_type('torch.FloatTensor')"
   ]
  },
  {
   "cell_type": "code",
   "execution_count": 3,
   "metadata": {},
   "outputs": [
    {
     "name": "stdout",
     "output_type": "stream",
     "text": [
      "true_nll: -0.8763405084609985\n"
     ]
    }
   ],
   "source": [
    "d_x=20\n",
    "d_h=25\n",
    "s_n=0.1\n",
    "dim = get_param_dim(d_x, d_h)\n",
    "x_train, x_test, y_train, y_test, param_true, energy = get_ground_truth_bnn(d_x, d_h, s_n)\n",
    "\n",
    "print(\"true_nll:\", evaluate_test_nll(param_true, x_test, y_test, d_x, d_h, s_n))"
   ]
  },
  {
   "cell_type": "code",
   "execution_count": 4,
   "metadata": {},
   "outputs": [
    {
     "data": {
      "text/plain": [
       "<torch._C.Generator at 0x110b18cb0>"
      ]
     },
     "execution_count": 4,
     "metadata": {},
     "output_type": "execute_result"
    }
   ],
   "source": [
    "# smapler seed\n",
    "seed = 1\n",
    "\n",
    "np.random.seed(seed)\n",
    "torch.manual_seed(seed)\n"
   ]
  },
  {
   "cell_type": "code",
   "execution_count": 5,
   "metadata": {},
   "outputs": [
    {
     "name": "stderr",
     "output_type": "stream",
     "text": [
      "100%|██████████| 75/75 [03:05<00:00,  2.48s/it, nll=0.189]\n"
     ]
    }
   ],
   "source": [
    "num_samples = 150\n",
    "num_chains = 2  # to save time, we run 2 independent DiGS samplers in parallel, each generating 75 samples\n",
    "step_size = 1e-4\n",
    "num_gibbs_sweeps_per_sample = 100\n",
    "num_langevin_steps_per_sweep = 10  # 100x10=1000 Langevin steps per sample per time step\n",
    "\n",
    "alpha_T = 0.1\n",
    "alpha_1 = 0.9\n",
    "T = 5\n",
    "\n",
    "param = torch.randn([num_chains, dim]).to(device)\n",
    "\n",
    "alpha_list = np.linspace(alpha_T, alpha_1, T)\n",
    "std_list = np.sqrt(1.0 - alpha_list**2)\n",
    "\n",
    "samples = []\n",
    "with tqdm(range(num_samples//num_chains)) as T:\n",
    "    for _ in T:\n",
    "        for (alpha, std) in zip(alpha_list, std_list):\n",
    "            # print(alpha, std)\n",
    "            param = langevin_diffusive_gibbs_sampler_step(param, energy, alpha=alpha, std=std, num_gibbs_sweeps=num_gibbs_sweeps_per_sample, num_langevin_steps_per_sweep=num_langevin_steps_per_sweep, step_size=step_size, use_mala=True, device=device)\n",
    "        samples.append(param.detach())\n",
    "        nll = evaluate_test_nll(torch.cat(samples, dim=0), x_test, y_test, d_x, d_h, s_n)\n",
    "        T.set_postfix({\"nll\": nll})\n",
    "\n",
    "samples = torch.cat(samples, dim=0)\n",
    "nll = evaluate_test_nll(samples, x_test, y_test, d_x, d_h, s_n)\n",
    "    "
   ]
  },
  {
   "cell_type": "code",
   "execution_count": 6,
   "metadata": {},
   "outputs": [
    {
     "name": "stdout",
     "output_type": "stream",
     "text": [
      "NLL: 0.18860545754432678\n"
     ]
    }
   ],
   "source": [
    "print(\"NLL:\", nll)"
   ]
  }
 ],
 "metadata": {
  "kernelspec": {
   "display_name": "rdgs",
   "language": "python",
   "name": "python3"
  },
  "language_info": {
   "codemirror_mode": {
    "name": "ipython",
    "version": 3
   },
   "file_extension": ".py",
   "mimetype": "text/x-python",
   "name": "python",
   "nbconvert_exporter": "python",
   "pygments_lexer": "ipython3",
   "version": "3.9.18"
  }
 },
 "nbformat": 4,
 "nbformat_minor": 2
}
